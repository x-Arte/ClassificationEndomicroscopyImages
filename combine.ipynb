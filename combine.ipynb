{
 "cells": [
  {
   "cell_type": "code",
   "execution_count": 11,
   "id": "initial_id",
   "metadata": {
    "collapsed": true,
    "ExecuteTime": {
     "end_time": "2023-12-13T23:57:33.689969600Z",
     "start_time": "2023-12-13T23:57:33.524788900Z"
    }
   },
   "outputs": [
    {
     "data": {
      "text/plain": "(array([[ 3.84079289,  3.99889517,  2.58120465, ...,  0.21158479,\n         -0.96334314,  0.        ],\n        [ 2.28245735,  2.88184237,  1.56598735, ...,  0.35030726,\n         -0.7106269 ,  0.        ],\n        [ 3.29867983,  3.63059497,  2.18886828, ..., -0.6007871 ,\n         -0.73169732,  0.        ],\n        ...,\n        [-2.56227469,  1.86912668, -2.0904243 , ...,  4.78099966,\n         -1.0768435 ,  2.        ],\n        [-1.06620371,  0.45336431, -0.78523117, ...,  3.66696501,\n         -0.83835495,  2.        ],\n        [-1.06620371,  0.45336431, -0.78523117, ...,  3.66696501,\n         -0.83835495,  2.        ]]),\n array([[-6.0815 , -4.9574 , -3.65   , ..., -1.362  , -2.2032 ,  0.     ],\n        [-6.291  , 29.026  ,  2.8737 , ...,  0.0818 ,  0.19099,  0.     ],\n        [ 0.31828, -3.0695 , -3.0513 , ...,  1.7729 , -1.6263 ,  0.     ],\n        ...,\n        [14.968  , -1.8226 , -0.1703 , ..., -0.146  ,  1.4523 ,  2.     ],\n        [10.491  , -1.7913 ,  2.5144 , ..., -0.55604,  0.50326,  2.     ],\n        [-2.1995 , -5.2685 , -2.7281 , ...,  0.73525, -0.13474,  2.     ]]))"
     },
     "execution_count": 11,
     "metadata": {},
     "output_type": "execute_result"
    }
   ],
   "source": [
    "import pandas as pd\n",
    "import numpy as np\n",
    "from itertools import product\n",
    "\n",
    "# 1. read data\n",
    "vgg_train_path = 'vgg_train.csv' \n",
    "vgg_test_path = 'vgg_test.csv'\n",
    "raman_path = 'raman_data.csv'            \n",
    "\n",
    "vgg_train = np.genfromtxt(vgg_train_path, delimiter=',')\n",
    "vgg_test = np.genfromtxt(vgg_test_path, delimiter=',')\n",
    "raman_data = np.genfromtxt(raman_path, delimiter=',')\n",
    "vgg_data =  np.concatenate((vgg_train,vgg_test),axis=0)\n",
    "vgg_data, raman_data\n"
   ]
  },
  {
   "cell_type": "code",
   "execution_count": 16,
   "outputs": [
    {
     "data": {
      "text/plain": "array([[-6.0815e+00, -4.9574e+00, -3.6500e+00, ...,  1.7222e+00,\n        -1.3620e+00, -2.2032e+00],\n       [-6.2910e+00,  2.9026e+01,  2.8737e+00, ...,  3.4348e-01,\n         8.1800e-02,  1.9099e-01],\n       [ 3.1828e-01, -3.0695e+00, -3.0513e+00, ...,  1.7338e-02,\n         1.7729e+00, -1.6263e+00],\n       ...,\n       [ 1.4968e+01, -1.8226e+00, -1.7030e-01, ...,  8.4968e-01,\n        -1.4600e-01,  1.4523e+00],\n       [ 1.0491e+01, -1.7913e+00,  2.5144e+00, ...,  1.9164e-01,\n        -5.5604e-01,  5.0326e-01],\n       [-2.1995e+00, -5.2685e+00, -2.7281e+00, ..., -9.3524e-01,\n         7.3525e-01, -1.3474e-01]])"
     },
     "execution_count": 16,
     "metadata": {},
     "output_type": "execute_result"
    }
   ],
   "source": [
    "# remove label\n",
    "vgg_no_label = vgg_data[:, :-1]\n",
    "raman_data_no_label = raman_data[:, :-1]\n",
    "\n",
    "label_vgg = vgg_data[:, -1]\n",
    "label_data = raman_data[:, -1]\n",
    "\n",
    "raman_data_no_label\n"
   ],
   "metadata": {
    "collapsed": false,
    "ExecuteTime": {
     "end_time": "2023-12-13T23:58:50.596352200Z",
     "start_time": "2023-12-13T23:58:50.585757Z"
    }
   },
   "id": "eb939d7b6fcf3f37"
  },
  {
   "cell_type": "code",
   "execution_count": 17,
   "outputs": [
    {
     "data": {
      "text/plain": "((array([0., 1., 2.]), array([675, 912, 933], dtype=int64)),\n (array([0., 1., 2.]), array([20, 20, 20], dtype=int64)))"
     },
     "execution_count": 17,
     "metadata": {},
     "output_type": "execute_result"
    }
   ],
   "source": [
    "group_count_vgg = np.unique(label_vgg, return_counts=True)\n",
    "group_count_data = np.unique(label_data, return_counts=True)\n",
    "group_count_vgg, group_count_data\n"
   ],
   "metadata": {
    "collapsed": false,
    "ExecuteTime": {
     "end_time": "2023-12-14T00:01:04.700750500Z",
     "start_time": "2023-12-14T00:01:04.690589900Z"
    }
   },
   "id": "bb0b5d059a604e0f"
  },
  {
   "cell_type": "code",
   "execution_count": 18,
   "outputs": [
    {
     "data": {
      "text/plain": "array([[ 3.84079289,  3.99889517,  2.58120465, ...,  1.7222    ,\n        -1.362     , -2.2032    ],\n       [ 3.84079289,  3.99889517,  2.58120465, ...,  0.34348   ,\n         0.0818    ,  0.19099   ],\n       [ 3.84079289,  3.99889517,  2.58120465, ...,  0.017338  ,\n         1.7729    , -1.6263    ],\n       ...,\n       [-1.06620371,  0.45336431, -0.78523117, ...,  0.84968   ,\n        -0.146     ,  1.4523    ],\n       [-1.06620371,  0.45336431, -0.78523117, ...,  0.19164   ,\n        -0.55604   ,  0.50326   ],\n       [-1.06620371,  0.45336431, -0.78523117, ..., -0.93524   ,\n         0.73525   , -0.13474   ]])"
     },
     "execution_count": 18,
     "metadata": {},
     "output_type": "execute_result"
    }
   ],
   "source": [
    "# combine data\n",
    "combined_data = []\n",
    "combined_labels = []\n",
    "\n",
    "for label in np.unique(label_vgg):\n",
    "    if label in np.unique(label_data):\n",
    "        rows_vgg = vgg_no_label[label_vgg == label]\n",
    "        rows_data = raman_data_no_label[label_data == label]\n",
    "\n",
    "        for row_vgg, row_data in product(rows_vgg, rows_data):\n",
    "            combined_data.append(np.concatenate([row_vgg, row_data]))\n",
    "            combined_labels.append(label)\n",
    "\n",
    "combined_data_array = np.array(combined_data)\n",
    "combined_labels_array = np.array(combined_labels)\n",
    "combined_data_array"
   ],
   "metadata": {
    "collapsed": false,
    "ExecuteTime": {
     "end_time": "2023-12-14T00:01:45.058559200Z",
     "start_time": "2023-12-14T00:01:44.942866600Z"
    }
   },
   "id": "6e549d676f9fbe9a"
  },
  {
   "cell_type": "code",
   "execution_count": 24,
   "outputs": [
    {
     "name": "stdout",
     "output_type": "stream",
     "text": [
      "              precision    recall  f1-score   support\n",
      "\n",
      "         0.0       1.00      1.00      1.00      2720\n",
      "         1.0       1.00      1.00      1.00      3679\n",
      "         2.0       1.00      1.00      1.00      3681\n",
      "\n",
      "    accuracy                           1.00     10080\n",
      "   macro avg       1.00      1.00      1.00     10080\n",
      "weighted avg       1.00      1.00      1.00     10080\n",
      "              precision    recall  f1-score   support\n",
      "\n",
      "         0.0       1.00      1.00      1.00      2757\n",
      "         1.0       1.00      1.00      1.00      3591\n",
      "         2.0       1.00      1.00      1.00      3732\n",
      "\n",
      "    accuracy                           1.00     10080\n",
      "   macro avg       1.00      1.00      1.00     10080\n",
      "weighted avg       1.00      1.00      1.00     10080\n",
      "              precision    recall  f1-score   support\n",
      "\n",
      "         0.0       1.00      1.00      1.00      2642\n",
      "         1.0       1.00      1.00      1.00      3608\n",
      "         2.0       1.00      1.00      1.00      3830\n",
      "\n",
      "    accuracy                           1.00     10080\n",
      "   macro avg       1.00      1.00      1.00     10080\n",
      "weighted avg       1.00      1.00      1.00     10080\n",
      "              precision    recall  f1-score   support\n",
      "\n",
      "         0.0       1.00      1.00      1.00      2649\n",
      "         1.0       1.00      1.00      1.00      3678\n",
      "         2.0       1.00      1.00      1.00      3753\n",
      "\n",
      "    accuracy                           1.00     10080\n",
      "   macro avg       1.00      1.00      1.00     10080\n",
      "weighted avg       1.00      1.00      1.00     10080\n",
      "              precision    recall  f1-score   support\n",
      "\n",
      "         0.0       1.00      1.00      1.00      2732\n",
      "         1.0       1.00      1.00      1.00      3684\n",
      "         2.0       1.00      1.00      1.00      3664\n",
      "\n",
      "    accuracy                           1.00     10080\n",
      "   macro avg       1.00      1.00      1.00     10080\n",
      "weighted avg       1.00      1.00      1.00     10080\n"
     ]
    }
   ],
   "source": [
    "from sklearn.model_selection import KFold\n",
    "from sklearn.ensemble import RandomForestClassifier\n",
    "from sklearn.metrics import confusion_matrix, classification_report\n",
    "# inital confusion matrix\n",
    "\n",
    "kf = KFold(n_splits=5, shuffle=True, random_state=42)\n",
    "cumulative_conf_matrix = np.zeros((np.unique(combined_labels_array).size, np.unique(combined_labels_array).size))\n",
    "\n",
    "# k-fold\n",
    "for train_index, test_index in kf.split(combined_data_array):\n",
    "    X_train, X_test = combined_data_array[train_index], combined_data_array[test_index]\n",
    "    y_train, y_test = combined_labels_array[train_index], combined_labels_array[test_index]\n",
    "\n",
    "    # train random forest\n",
    "    classifier = RandomForestClassifier()\n",
    "    classifier.fit(X_train, y_train)\n",
    "    y_pred = classifier.predict(X_test)\n",
    "\n",
    "    # calculate & add confudion matrix\n",
    "    conf_matrix = confusion_matrix(y_test, y_pred)\n",
    "    cumulative_conf_matrix += conf_matrix\n",
    "\n",
    "    print(classification_report(y_test, y_pred))"
   ],
   "metadata": {
    "collapsed": false,
    "ExecuteTime": {
     "end_time": "2023-12-14T00:09:04.586511800Z",
     "start_time": "2023-12-14T00:08:31.232048500Z"
    }
   },
   "id": "eb22c061656f5d41"
  },
  {
   "cell_type": "code",
   "execution_count": 25,
   "outputs": [
    {
     "data": {
      "text/plain": "<Figure size 640x480 with 2 Axes>",
      "image/png": "[encoded data removed]"
     },
     "metadata": {},
     "output_type": "display_data"
    }
   ],
   "source": [
    "import matplotlib.pyplot as plt\n",
    "import seaborn as sns\n",
    "\n",
    "sns.heatmap(cumulative_conf_matrix, annot=True, fmt='g')\n",
    "plt.xlabel('Predicted')\n",
    "plt.ylabel('True')\n",
    "plt.title('Cumulative Confusion Matrix')\n",
    "plt.show()"
   ],
   "metadata": {
    "collapsed": false,
    "ExecuteTime": {
     "end_time": "2023-12-14T00:09:25.210246700Z",
     "start_time": "2023-12-14T00:09:24.338648800Z"
    }
   },
   "id": "c556093888412666"
  },
  {
   "cell_type": "code",
   "execution_count": 42,
   "outputs": [
    {
     "name": "stdout",
     "output_type": "stream",
     "text": [
      "              precision    recall  f1-score   support\n",
      "\n",
      "         0.0       1.00      1.00      1.00       560\n",
      "         1.0       0.40      1.00      0.57       328\n",
      "         2.0       1.00      0.58      0.73      1200\n",
      "\n",
      "    accuracy                           0.76      2088\n",
      "   macro avg       0.80      0.86      0.77      2088\n",
      "weighted avg       0.90      0.76      0.78      2088\n",
      "              precision    recall  f1-score   support\n",
      "\n",
      "         0.0       1.00      1.00      1.00       840\n",
      "         1.0       0.99      1.00      0.99       328\n",
      "         2.0       1.00      0.99      1.00       800\n",
      "\n",
      "    accuracy                           1.00      1968\n",
      "   macro avg       1.00      1.00      1.00      1968\n",
      "weighted avg       1.00      1.00      1.00      1968\n",
      "              precision    recall  f1-score   support\n",
      "\n",
      "         0.0       1.00      1.00      1.00       560\n",
      "         1.0       0.83      1.00      0.91       984\n",
      "         2.0       1.00      0.51      0.67       400\n",
      "\n",
      "    accuracy                           0.90      1944\n",
      "   macro avg       0.94      0.83      0.86      1944\n",
      "weighted avg       0.92      0.90      0.89      1944\n",
      "              precision    recall  f1-score   support\n",
      "\n",
      "         0.0       1.00      1.00      1.00       280\n",
      "         1.0       0.99      1.00      1.00       984\n",
      "         2.0       1.00      0.99      1.00       800\n",
      "\n",
      "    accuracy                           1.00      2064\n",
      "   macro avg       1.00      1.00      1.00      2064\n",
      "weighted avg       1.00      1.00      1.00      2064\n",
      "              precision    recall  f1-score   support\n",
      "\n",
      "         0.0       1.00      1.00      1.00       560\n",
      "         1.0       0.82      1.00      0.90       656\n",
      "         2.0       1.00      0.82      0.90       800\n",
      "\n",
      "    accuracy                           0.93      2016\n",
      "   macro avg       0.94      0.94      0.93      2016\n",
      "weighted avg       0.94      0.93      0.93      2016\n",
      "              precision    recall  f1-score   support\n",
      "\n",
      "         0.0       1.00      0.99      1.00       580\n",
      "         1.0       0.63      0.99      0.77       364\n",
      "         2.0       0.99      0.80      0.88      1062\n",
      "\n",
      "    accuracy                           0.89      2006\n",
      "   macro avg       0.87      0.93      0.88      2006\n",
      "weighted avg       0.93      0.89      0.90      2006\n",
      "              precision    recall  f1-score   support\n",
      "\n",
      "         0.0       1.00      0.99      1.00       870\n",
      "         1.0       0.99      1.00      0.99       364\n",
      "         2.0       0.99      0.99      0.99       708\n",
      "\n",
      "    accuracy                           0.99      1942\n",
      "   macro avg       0.99      0.99      0.99      1942\n",
      "weighted avg       0.99      0.99      0.99      1942\n",
      "              precision    recall  f1-score   support\n",
      "\n",
      "         0.0       1.00      0.99      1.00       580\n",
      "         1.0       0.86      0.99      0.92      1092\n",
      "         2.0       0.92      0.50      0.65       354\n",
      "\n",
      "    accuracy                           0.91      2026\n",
      "   macro avg       0.93      0.83      0.86      2026\n",
      "weighted avg       0.91      0.91      0.90      2026\n",
      "              precision    recall  f1-score   support\n",
      "\n",
      "         0.0       1.00      0.99      1.00       290\n",
      "         1.0       1.00      0.99      0.99      1092\n",
      "         2.0       0.98      0.99      0.99       708\n",
      "\n",
      "    accuracy                           0.99      2090\n",
      "   macro avg       0.99      0.99      0.99      2090\n",
      "weighted avg       0.99      0.99      0.99      2090\n",
      "              precision    recall  f1-score   support\n",
      "\n",
      "         0.0       1.00      0.99      1.00       580\n",
      "         1.0       0.96      0.99      0.98       728\n",
      "         2.0       0.98      0.96      0.97       708\n",
      "\n",
      "    accuracy                           0.98      2016\n",
      "   macro avg       0.98      0.98      0.98      2016\n",
      "weighted avg       0.98      0.98      0.98      2016\n",
      "              precision    recall  f1-score   support\n",
      "\n",
      "         0.0       0.99      1.00      0.99       520\n",
      "         1.0       0.54      1.00      0.70       374\n",
      "         2.0       1.00      0.71      0.83      1122\n",
      "\n",
      "    accuracy                           0.84      2016\n",
      "   macro avg       0.84      0.90      0.84      2016\n",
      "weighted avg       0.91      0.84      0.85      2016\n",
      "              precision    recall  f1-score   support\n",
      "\n",
      "         0.0       0.99      1.00      1.00       780\n",
      "         1.0       1.00      1.00      1.00       374\n",
      "         2.0       1.00      0.99      1.00       748\n",
      "\n",
      "    accuracy                           1.00      1902\n",
      "   macro avg       1.00      1.00      1.00      1902\n",
      "weighted avg       1.00      1.00      1.00      1902\n",
      "              precision    recall  f1-score   support\n",
      "\n",
      "         0.0       1.00      1.00      1.00       520\n",
      "         1.0       0.86      1.00      0.92      1122\n",
      "         2.0       1.00      0.51      0.67       374\n",
      "\n",
      "    accuracy                           0.91      2016\n",
      "   macro avg       0.95      0.84      0.87      2016\n",
      "weighted avg       0.92      0.91      0.90      2016\n",
      "              precision    recall  f1-score   support\n",
      "\n",
      "         0.0       0.98      1.00      0.99       260\n",
      "         1.0       1.00      1.00      1.00      1122\n",
      "         2.0       1.00      0.99      1.00       748\n",
      "\n",
      "    accuracy                           1.00      2130\n",
      "   macro avg       0.99      1.00      1.00      2130\n",
      "weighted avg       1.00      1.00      1.00      2130\n",
      "              precision    recall  f1-score   support\n",
      "\n",
      "         0.0       0.99      1.00      1.00       520\n",
      "         1.0       0.92      1.00      0.96       748\n",
      "         2.0       1.00      0.90      0.95       748\n",
      "\n",
      "    accuracy                           0.96      2016\n",
      "   macro avg       0.97      0.97      0.97      2016\n",
      "weighted avg       0.97      0.96      0.96      2016\n",
      "              precision    recall  f1-score   support\n",
      "\n",
      "         0.0       1.00      1.00      1.00       592\n",
      "         1.0       0.67      1.00      0.80       370\n",
      "         2.0       1.00      0.82      0.90      1026\n",
      "\n",
      "    accuracy                           0.91      1988\n",
      "   macro avg       0.89      0.94      0.90      1988\n",
      "weighted avg       0.94      0.91      0.91      1988\n",
      "              precision    recall  f1-score   support\n",
      "\n",
      "         0.0       1.00      1.00      1.00       888\n",
      "         1.0       1.00      1.00      1.00       370\n",
      "         2.0       1.00      1.00      1.00       684\n",
      "\n",
      "    accuracy                           1.00      1942\n",
      "   macro avg       1.00      1.00      1.00      1942\n",
      "weighted avg       1.00      1.00      1.00      1942\n",
      "              precision    recall  f1-score   support\n",
      "\n",
      "         0.0       1.00      1.00      1.00       592\n",
      "         1.0       0.87      1.00      0.93      1110\n",
      "         2.0       1.00      0.51      0.67       342\n",
      "\n",
      "    accuracy                           0.92      2044\n",
      "   macro avg       0.96      0.84      0.87      2044\n",
      "weighted avg       0.93      0.92      0.91      2044\n",
      "              precision    recall  f1-score   support\n",
      "\n",
      "         0.0       1.00      1.00      1.00       296\n",
      "         1.0       1.00      1.00      1.00      1110\n",
      "         2.0       1.00      1.00      1.00       684\n",
      "\n",
      "    accuracy                           1.00      2090\n",
      "   macro avg       1.00      1.00      1.00      2090\n",
      "weighted avg       1.00      1.00      1.00      2090\n",
      "              precision    recall  f1-score   support\n",
      "\n",
      "         0.0       1.00      1.00      1.00       592\n",
      "         1.0       0.89      1.00      0.94       740\n",
      "         2.0       1.00      0.87      0.93       684\n",
      "\n",
      "    accuracy                           0.96      2016\n",
      "   macro avg       0.96      0.96      0.96      2016\n",
      "weighted avg       0.96      0.96      0.96      2016\n",
      "              precision    recall  f1-score   support\n",
      "\n",
      "         0.0       1.00      1.00      1.00       448\n",
      "         1.0       0.55      0.98      0.71       388\n",
      "         2.0       0.99      0.74      0.85      1188\n",
      "\n",
      "    accuracy                           0.84      2024\n",
      "   macro avg       0.85      0.91      0.85      2024\n",
      "weighted avg       0.91      0.84      0.85      2024\n",
      "              precision    recall  f1-score   support\n",
      "\n",
      "         0.0       1.00      1.00      1.00       672\n",
      "         1.0       0.98      0.99      0.99       388\n",
      "         2.0       1.00      0.99      0.99       792\n",
      "\n",
      "    accuracy                           1.00      1852\n",
      "   macro avg       0.99      0.99      0.99      1852\n",
      "weighted avg       1.00      1.00      1.00      1852\n",
      "              precision    recall  f1-score   support\n",
      "\n",
      "         0.0       1.00      1.00      1.00       448\n",
      "         1.0       0.85      0.99      0.91      1164\n",
      "         2.0       0.92      0.50      0.65       396\n",
      "\n",
      "    accuracy                           0.89      2008\n",
      "   macro avg       0.92      0.83      0.85      2008\n",
      "weighted avg       0.90      0.89      0.88      2008\n",
      "              precision    recall  f1-score   support\n",
      "\n",
      "         0.0       1.00      1.00      1.00       224\n",
      "         1.0       0.99      0.99      0.99      1164\n",
      "         2.0       0.99      0.99      0.99       792\n",
      "\n",
      "    accuracy                           0.99      2180\n",
      "   macro avg       0.99      0.99      0.99      2180\n",
      "weighted avg       0.99      0.99      0.99      2180\n",
      "              precision    recall  f1-score   support\n",
      "\n",
      "         0.0       1.00      1.00      1.00       448\n",
      "         1.0       0.81      0.99      0.89       776\n",
      "         2.0       0.99      0.77      0.86       792\n",
      "\n",
      "    accuracy                           0.91      2016\n",
      "   macro avg       0.93      0.92      0.92      2016\n",
      "weighted avg       0.92      0.91      0.90      2016\n"
     ]
    }
   ],
   "source": [
    "from sklearn.metrics import accuracy_score\n",
    "# combine data after k-fold\n",
    "kf = KFold(n_splits=5, shuffle=True, random_state=42)\n",
    "\n",
    "cumulative_conf_matrix = np.zeros((np.unique(combined_labels_array).size, np.unique(combined_labels_array).size))\n",
    "accuracy_list = []\n",
    "\n",
    "# K-Fold \n",
    "for train_index_vgg, test_index_vgg in kf.split(vgg_data):\n",
    "    for train_index_raman, test_index_raman in kf.split(raman_data):\n",
    "        vgg_train, vgg_test = vgg_data[train_index_vgg], vgg_data[test_index_vgg]\n",
    "        raman_train, raman_test = raman_data[train_index_raman], raman_data[test_index_raman]\n",
    "\n",
    "        label_vgg_train = vgg_train[:, -1]\n",
    "        label_vgg_test = vgg_test[:, -1]\n",
    "        label_raman_train = raman_train[:, -1]\n",
    "        label_raman_test = raman_test[:, -1]\n",
    "\n",
    "        vgg_train_no_label = vgg_train[:, :-1]\n",
    "        vgg_test_no_label = vgg_test[:, :-1]\n",
    "        raman_train_no_label = raman_train[:, :-1]\n",
    "        raman_test_no_label = raman_test[:, :-1]\n",
    "\n",
    "        # find label\n",
    "        common_labels_train = np.intersect1d(label_vgg_train, label_raman_train)\n",
    "        common_labels_test = np.intersect1d(label_vgg_test, label_raman_test)\n",
    "\n",
    "        combined_train_data = []\n",
    "        combined_train_labels = []\n",
    "        for label in common_labels_train:\n",
    "            rows_vgg = vgg_train_no_label[label_vgg_train == label]\n",
    "            rows_raman = raman_train_no_label[label_raman_train == label]\n",
    "            for row_vgg, row_raman in product(rows_vgg, rows_raman):\n",
    "                combined_train_data.append(np.concatenate([row_vgg, row_raman]))\n",
    "                combined_train_labels.append(label)\n",
    "\n",
    "        combined_test_data = []\n",
    "        combined_test_labels = []\n",
    "        for label in common_labels_test:\n",
    "            rows_vgg = vgg_test_no_label[label_vgg_test == label]\n",
    "            rows_raman = raman_test_no_label[label_raman_test == label]\n",
    "            for row_vgg, row_raman in product(rows_vgg, rows_raman):\n",
    "                combined_test_data.append(np.concatenate([row_vgg, row_raman]))\n",
    "                combined_test_labels.append(label)\n",
    "\n",
    "        X_train = np.array(combined_train_data)\n",
    "        y_train = np.array(combined_train_labels)\n",
    "        X_test = np.array(combined_test_data)\n",
    "        y_test = np.array(combined_test_labels)\n",
    "\n",
    "        # RF\n",
    "        classifier = RandomForestClassifier()\n",
    "        classifier.fit(X_train, y_train)\n",
    "        y_pred = classifier.predict(X_test)\n",
    "\n",
    "        # \n",
    "        conf_matrix = confusion_matrix(y_test, y_pred)\n",
    "        cumulative_conf_matrix += conf_matrix\n",
    "        \n",
    "        accuracy = accuracy_score(y_test, y_pred)\n",
    "        accuracy_list.append(accuracy)\n",
    "        # report\n",
    "        print(classification_report(y_test, y_pred))\n"
   ],
   "metadata": {
    "collapsed": false,
    "ExecuteTime": {
     "end_time": "2023-12-14T00:58:56.722203500Z",
     "start_time": "2023-12-14T00:56:53.314253900Z"
    }
   },
   "id": "cc0094e13152faac"
  },
  {
   "cell_type": "code",
   "execution_count": 43,
   "outputs": [
    {
     "name": "stdout",
     "output_type": "stream",
     "text": [
      "Total Average Accuracy: 93.82%\n"
     ]
    }
   ],
   "source": [
    "average_accuracy = np.mean(accuracy_list)\n",
    "print(f\"Total Average Accuracy: {average_accuracy * 100:.2f}%\")"
   ],
   "metadata": {
    "collapsed": false,
    "ExecuteTime": {
     "end_time": "2023-12-14T00:59:00.535358600Z",
     "start_time": "2023-12-14T00:59:00.525264900Z"
    }
   },
   "id": "b6398985fa3d54e9"
  },
  {
   "cell_type": "code",
   "execution_count": 44,
   "outputs": [
    {
     "data": {
      "text/plain": "<Figure size 640x480 with 2 Axes>",
      "image/png": "[encoded data removed]"
     },
     "metadata": {},
     "output_type": "display_data"
    }
   ],
   "source": [
    "sns.heatmap(cumulative_conf_matrix, annot=True, fmt='g')\n",
    "plt.xlabel('Predicted')\n",
    "plt.ylabel('True')\n",
    "plt.title('Cumulative Confusion Matrix')\n",
    "plt.show()"
   ],
   "metadata": {
    "collapsed": false,
    "ExecuteTime": {
     "end_time": "2023-12-14T00:59:03.544704Z",
     "start_time": "2023-12-14T00:59:03.351117500Z"
    }
   },
   "id": "4faa09a9345bbf61"
  }
 ],
 "metadata": {
  "kernelspec": {
   "display_name": "Python 3",
   "language": "python",
   "name": "python3"
  },
  "language_info": {
   "codemirror_mode": {
    "name": "ipython",
    "version": 2
   },
   "file_extension": ".py",
   "mimetype": "text/x-python",
   "name": "python",
   "nbconvert_exporter": "python",
   "pygments_lexer": "ipython2",
   "version": "2.7.6"
  }
 },
 "nbformat": 4,
 "nbformat_minor": 5
}
